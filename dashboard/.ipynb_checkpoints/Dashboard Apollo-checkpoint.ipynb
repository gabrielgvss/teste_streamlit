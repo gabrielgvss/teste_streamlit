{
 "cells": [
  {
   "cell_type": "code",
   "execution_count": null,
   "id": "f602e9d9",
   "metadata": {},
   "outputs": [],
   "source": [
    "pip install dash"
   ]
  },
  {
   "cell_type": "markdown",
   "id": "aa7987d4",
   "metadata": {},
   "source": [
    "# 1 - CONEXÃO COM BD"
   ]
  },
  {
   "cell_type": "code",
   "execution_count": 1,
   "id": "e056ec4f",
   "metadata": {},
   "outputs": [],
   "source": [
    "#IMPORTANDO BIBLIOTECAS NECESSÁRIAS\n",
    "from dash import Dash, html, dcc, dash\n",
    "from dash.dependencies import Input, Output\n",
    "import plotly.express as plx\n",
    "import pandas as pd\n",
    "import mysql.connector"
   ]
  },
  {
   "cell_type": "code",
   "execution_count": 4,
   "id": "391d5ea7",
   "metadata": {},
   "outputs": [],
   "source": [
    "#FUNÇÃO PARA DEFINIÇÃO DE CONEXÃO COM O SERVIDOR DO BD\n",
    "def criar_conexao_servidor(usuario, senha, host, nome_bd):\n",
    "    conexao = None\n",
    "    try:\n",
    "        conexao = mysql.connector.connect(\n",
    "            host=host,\n",
    "            user=usuario,\n",
    "            passwd=senha,\n",
    "            database=nome_bd\n",
    "        )\n",
    "        print(\"MySQL DB conectado com sucesso\")\n",
    "    except Error as err:\n",
    "        print(f\"Erro: '{err}'\")\n",
    "    \n",
    "    return conexao"
   ]
  },
  {
   "cell_type": "code",
   "execution_count": 5,
   "id": "9be9e922",
   "metadata": {},
   "outputs": [
    {
     "name": "stdout",
     "output_type": "stream",
     "text": [
      "MySQL DB conectado com sucesso\n"
     ]
    }
   ],
   "source": [
    "conexao = criar_conexao_servidor('root', '', 'localhost', 'apollo')"
   ]
  },
  {
   "cell_type": "code",
   "execution_count": 6,
   "id": "7d90ce26",
   "metadata": {},
   "outputs": [],
   "source": [
    "cursor = conexao.cursor()"
   ]
  },
  {
   "cell_type": "markdown",
   "id": "e9a8bb59",
   "metadata": {},
   "source": [
    "# 2 - CONSULTAS PARA OBTENÇÃO DOS DADOS"
   ]
  },
  {
   "cell_type": "code",
   "execution_count": 7,
   "id": "73283794",
   "metadata": {},
   "outputs": [
    {
     "data": {
      "text/plain": [
       "[(11, 370.0), (11, 755.0), (12, 300.0), (12, 670.0), (12, 570.0)]"
      ]
     },
     "execution_count": 7,
     "metadata": {},
     "output_type": "execute_result"
    }
   ],
   "source": [
    "#CONSULTA TOTAL DAS PRESTAÇOES JUNTO AO MÊS\n",
    "query_faturamento_mes = \"\"\"\n",
    "SELECT MONTH(DiaData) AS mes, (Adicional + SUM(preco)) AS total \n",
    "FROM prestacao, prestacao_servico, prestacao_data, servico, data \n",
    "WHERE prestacao.IDPrestacao = prestacao_servico.IDPrestacao \n",
    "AND prestacao.IDPrestacao = prestacao_data.IDPrestacao \n",
    "AND prestacao_servico.IDServico = servico.id \n",
    "AND prestacao_data.IDData = data.IDData \n",
    "GROUP BY prestacao.IDPrestacao;\n",
    "\"\"\"\n",
    "\n",
    "cursor.execute(query_faturamento_mes)\n",
    "resultado_query_faturamento_mes = cursor.fetchall()\n",
    "resultado_query_faturamento_mes"
   ]
  },
  {
   "cell_type": "code",
   "execution_count": 8,
   "id": "5cd0c38d",
   "metadata": {},
   "outputs": [
    {
     "data": {
      "text/plain": [
       "[(1125.0, 11, 2022), (1540.0, 12, 2022)]"
      ]
     },
     "execution_count": 8,
     "metadata": {},
     "output_type": "execute_result"
    }
   ],
   "source": [
    "#CONSULTA FATURAMENTO BRUTO POR MÊS \n",
    "query_faturamento_bruto = \"\"\"\n",
    "SELECT \n",
    "    SUM(total) AS Valor_Arrecadado,\n",
    "    mes,\n",
    "    ano\n",
    "FROM (\n",
    "    SELECT \n",
    "        MONTH(DiaData) AS mes, \n",
    "        YEAR(DiaData) AS ano,\n",
    "        prestacao.IDPrestacao,\n",
    "        (Adicional + COALESCE(SUM(servico.preco), 0)) AS total\n",
    "    FROM \n",
    "        prestacao\n",
    "    JOIN \n",
    "        prestacao_servico ON prestacao.IDPrestacao = prestacao_servico.IDPrestacao\n",
    "    JOIN \n",
    "        servico ON prestacao_servico.IDServico = servico.id\n",
    "    JOIN \n",
    "        prestacao_data ON prestacao.IDPrestacao = prestacao_data.IDPrestacao\n",
    "    JOIN \n",
    "        data ON prestacao_data.IDData = data.IDData\n",
    "    GROUP BY \n",
    "        mes, prestacao.IDPrestacao\n",
    ") AS subquery\n",
    "GROUP BY \n",
    "    mes;\n",
    "\"\"\"\n",
    "cursor.execute(query_faturamento_bruto)\n",
    "resultado_faturamento_bruto = cursor.fetchall()\n",
    "resultado_faturamento_bruto"
   ]
  },
  {
   "cell_type": "code",
   "execution_count": 7,
   "id": "ba59994e",
   "metadata": {},
   "outputs": [],
   "source": [
    "#FATURAMENTO LÍQUIDO POR MÊS (SOMA_VALOR_SERVIÇOS - (CUSTOS + DIARIAS))"
   ]
  },
  {
   "cell_type": "code",
   "execution_count": 10,
   "id": "38923f4f",
   "metadata": {},
   "outputs": [
    {
     "data": {
      "text/plain": [
       "[(2, 11, 2022), (3, 12, 2022)]"
      ]
     },
     "execution_count": 10,
     "metadata": {},
     "output_type": "execute_result"
    }
   ],
   "source": [
    "#QUANTIDADE DE PRESTAÇÕES REALIZADAS POR MÊS, ANO \n",
    "query_prestacoes_mes = \"\"\"\n",
    "SELECT COUNT(prestacao.IDPrestacao) as qtd_prestacoes, MONTH(DiaData) as mes, YEAR(DiaData) as ano\n",
    "FROM prestacao, prestacao_data, data\n",
    "WHERE prestacao.IDPrestacao = prestacao_data.IDData \n",
    "AND prestacao_data.IDData = data.IDData\n",
    "GROUP BY mes;\n",
    "\"\"\"\n",
    "cursor.execute(query_prestacoes_mes)\n",
    "resultado_query_prestacoes_mes = cursor.fetchall()\n",
    "resultado_query_prestacoes_mes"
   ]
  },
  {
   "cell_type": "code",
   "execution_count": 11,
   "id": "a571a422",
   "metadata": {},
   "outputs": [
    {
     "data": {
      "text/plain": [
       "[(2, 'Instalação'), (2, 'Manutenção Elétrica'), (4, 'Limpeza')]"
      ]
     },
     "execution_count": 11,
     "metadata": {},
     "output_type": "execute_result"
    }
   ],
   "source": [
    "#QUANTIDADE DE SERVIÇOS E DESCRIÇÃO REALIZADOS EM PRESTAÇÕES\n",
    "query_servicos_qtd=\"\"\"\n",
    "SELECT COUNT(prestacao_servico.IDServico) as qtd, servico.nome\n",
    "FROM prestacao, prestacao_servico, servico\n",
    "WHERE prestacao.IDPrestacao = prestacao_servico.IDPrestacao\n",
    "AND prestacao_servico.IDServico = servico.id\n",
    "GROUP BY servico.nome\n",
    "ORDER BY qtd;\n",
    "\"\"\"\n",
    "cursor.execute(query_servicos_qtd)\n",
    "resultado_query_servicos_qtd = cursor.fetchall()\n",
    "resultado_query_servicos_qtd"
   ]
  },
  {
   "cell_type": "code",
   "execution_count": 12,
   "id": "3e3eaa79",
   "metadata": {},
   "outputs": [
    {
     "data": {
      "text/plain": [
       "[(21,)]"
      ]
     },
     "execution_count": 12,
     "metadata": {},
     "output_type": "execute_result"
    }
   ],
   "source": [
    "#TOTAL DE FUNCIONARIOS\n",
    "query_total_funcionarios = \"\"\"\n",
    "SELECT COUNT(*) FROM funcionario\n",
    "\"\"\"\n",
    "cursor.execute(query_total_funcionarios)\n",
    "resultado_query_total_funcionarios = cursor.fetchall()\n",
    "resultado_query_total_funcionarios"
   ]
  },
  {
   "cell_type": "code",
   "execution_count": 13,
   "id": "eead43f5",
   "metadata": {},
   "outputs": [
    {
     "data": {
      "text/plain": [
       "[(350.0, 11, 2022), (405.0, 12, 2022)]"
      ]
     },
     "execution_count": 13,
     "metadata": {},
     "output_type": "execute_result"
    }
   ],
   "source": [
    "#GASTOS TOTAIS COM DIÁRIAS DE FUNCIONÁRIOS EM PRESTAÇÕES\n",
    "query_gastos_funcionarios=\"\"\"\n",
    "SELECT \n",
    "    SUM(soma_diarias) as gasto_total_diaria,\n",
    "    MONTH(data.DiaData) AS mes,\n",
    "    YEAR(data.DiaData) AS ano\n",
    "FROM (\n",
    "    SELECT \n",
    "        prestacao.IDPrestacao, \n",
    "        SUM(funcionario.diaria) as soma_diarias\n",
    "    FROM \n",
    "        prestacao\n",
    "    JOIN \n",
    "        prestacao_funcionario ON prestacao.IDPrestacao = prestacao_funcionario.IDPrestacao\n",
    "    JOIN \n",
    "        funcionario ON prestacao_funcionario.IDFuncionario = funcionario.id\n",
    "    GROUP BY \n",
    "        prestacao.IDPrestacao\n",
    ") as somas_diarias_prestacao\n",
    "JOIN prestacao_data ON somas_diarias_prestacao.IDPrestacao = prestacao_data.IDPrestacao\n",
    "JOIN data ON prestacao_data.IDData = data.IDData\n",
    "GROUP BY \n",
    "    mes;\n",
    "\"\"\"\n",
    "cursor.execute(query_gastos_funcionarios)\n",
    "resultado_query_gastos_funcionarios = cursor.fetchall()\n",
    "resultado_query_gastos_funcionarios"
   ]
  },
  {
   "cell_type": "markdown",
   "id": "439c8536",
   "metadata": {},
   "source": [
    "# 3 - DEFINIÇÃO DOS DADOS OBTIDOS EM DATAFRAMES"
   ]
  },
  {
   "cell_type": "code",
   "execution_count": 12,
   "id": "1008b051",
   "metadata": {},
   "outputs": [],
   "source": [
    "#CRIAÇÃO DE DICIONÁRIO COM NOMES PARA ASSOCIAÇÃO JUNTO AOS MESES\n",
    "mes_ref = {\n",
    "    1: \"Janeiro\",\n",
    "    2: \"Fevereiro\",\n",
    "    3: \"Março\",\n",
    "    4: \"Abril\",\n",
    "    5: \"Maio\",\n",
    "    6: \"Junho\",\n",
    "    7: \"Julho\",\n",
    "    8: \"Agosto\",\n",
    "    9: \"Setembro\",\n",
    "    10: \"Outubro\",\n",
    "    11: \"Novembro\",\n",
    "    12: \"Dezembro\"\n",
    "}\n"
   ]
  },
  {
   "cell_type": "code",
   "execution_count": 13,
   "id": "dba52ea3",
   "metadata": {},
   "outputs": [],
   "source": [
    "#DEFINIÇÃO DOS DATAFRAMES\n",
    "df_fat_bruto = pd.DataFrame(resultado_faturamento_bruto, columns=['faturamento', 'mes','ano'])\n",
    "df_qtd_prest = pd.DataFrame(resultado_query_prestacoes_mes, columns=['qtd_prestacoes', 'mes','ano'])\n",
    "df_qtd_servicos = pd.DataFrame(resultado_query_servicos_qtd, columns=['qtd', 'servico'])\n",
    "df_gastos_func = pd.DataFrame(resultado_query_gastos_funcionarios, columns=['total', 'mes','ano'])\n",
    "df_tot_func = pd.DataFrame(resultado_query_total_funcionarios, columns=['total'])"
   ]
  },
  {
   "cell_type": "code",
   "execution_count": 14,
   "id": "68517922",
   "metadata": {},
   "outputs": [],
   "source": [
    "#MAPEAMENTO DOS NOMES DOS MESES NA COLUNA MÊS\n",
    "df_fat_bruto['mes'] = df_fat_bruto['mes'].map(mes_ref).astype(str)\n",
    "df_qtd_prest['mes'] = df_qtd_prest['mes'].map(mes_ref).astype(str)\n",
    "df_gastos_func['mes']=df_gastos_func['mes'].map(mes_ref).astype(str)"
   ]
  },
  {
   "cell_type": "markdown",
   "id": "047488e4",
   "metadata": {},
   "source": [
    "## 4 - PLOTAGEM E VISUALIZAÇÃO DE GRÁFICOS"
   ]
  },
  {
   "cell_type": "code",
   "execution_count": 16,
   "id": "bd84609d",
   "metadata": {},
   "outputs": [
    {
     "data": {
      "text/html": [
       "\n",
       "        <iframe\n",
       "            width=\"100%\"\n",
       "            height=\"650\"\n",
       "            src=\"http://127.0.0.1:8051/\"\n",
       "            frameborder=\"0\"\n",
       "            allowfullscreen\n",
       "            \n",
       "        ></iframe>\n",
       "        "
      ],
      "text/plain": [
       "<IPython.lib.display.IFrame at 0x1e144d87f10>"
      ]
     },
     "metadata": {},
     "output_type": "display_data"
    }
   ],
   "source": [
    "# GRÁFICO FATURAMENTO BRUTO POR MÊS, ANO\n",
    "# Modelo: Gráfico de barras verticais\n",
    "\n",
    "#Inicialização da aplicação Dash\n",
    "app = dash.Dash(__name__) \n",
    "\n",
    "#Separação de anos disponíveis para seleção\n",
    "anos = df_fat_bruto['ano'].unique() \n",
    "\n",
    "#Layout da aplicação criando:\n",
    "# - caixa de seleção para alternância entre anos\n",
    "# - gráfico de barras com exibição do faturamente entre os meses do ano escolhido\n",
    "app1.layout = html.Div([\n",
    "    dcc.Dropdown(\n",
    "        id='ano-dropdown',\n",
    "        options=[{'label':str(ano), 'value':ano} for ano in anos],\n",
    "        value=anos[0], #set de valor inicial\n",
    "        style={'width':'50%'}\n",
    "    ),\n",
    "    dcc.Graph(id='grafico-faturamento-bruto')\n",
    "])\n",
    "\n",
    "#Utilização de callback para atualizar o gráfico conforme a seleção do ano\n",
    "@app1.callback(\n",
    "    Output('grafico-faturamento-bruto', 'figure'),\n",
    "    [Input('ano-dropdown', 'value')]\n",
    ")\n",
    "\n",
    "#Função que fornece o gráfico com informações do ano\n",
    "def atualizar_grafico(ano_selecionado):\n",
    "    df_selecionado = df_fat_bruto[df_fat_bruto['ano'] == ano_selecionado]\n",
    "    fig = plx.bar(\n",
    "        df_selecionado, x='mes', y='faturamento',\n",
    "        title=f'Faturamento por Mês: Ano {ano_selecionado}',\n",
    "        labels={'faturamento':'Faturamento (R$)', 'mes': 'Mês'},\n",
    "        orientation='v',\n",
    "        color='mes',\n",
    "        height=500,\n",
    "        hover_data={'faturamento':':.2f'}\n",
    "    )\n",
    "    fig.update_layout(\n",
    "        margin=dict(l=1, t=50, b=0),\n",
    "        showlegend=False\n",
    "    )\n",
    "    return fig\n",
    "\n",
    "if __name__ == '__main__':\n",
    "    app1.run(port=8051)"
   ]
  },
  {
   "cell_type": "code",
   "execution_count": null,
   "id": "26b1a3fd",
   "metadata": {},
   "outputs": [],
   "source": [
    "# GRÁFICO DE QUANTIDADE DE PRESTAÇÕES REALIZADAS POR MÊS, ANO\n",
    "# Modelo: Gráfico de barras horizontais\n",
    "\n",
    "#Inicialização da aplicação Dash\n",
    "app = dash.Dash(__name__) \n",
    "\n",
    "#Separação de anos disponíveis para seleção\n",
    "anos = df_qtd_prest['ano'].unique() \n",
    "\n",
    "#Layout da aplicação criando:\n",
    "# - caixa de seleção para alternância entre anos\n",
    "# - gráfico de barras com exibição da quantidade de prestações realizadas entre os meses do ano escolhido\n",
    "app.layout = html.Div([\n",
    "    dcc.Dropdown(\n",
    "        id='ano-dropdown',\n",
    "        options=[{'label':str(ano), 'value':ano} for ano in anos],\n",
    "        value=anos[0], #set de valor inicial\n",
    "        style={'width':'50%'}\n",
    "    ),\n",
    "    dcc.Graph(id='grafico-qtd-prestacoes')\n",
    "])\n",
    "\n",
    "#Utilização de callback para atualizar o gráfico conforme a seleção do ano\n",
    "@app.callback(\n",
    "    Output('grafico-qtd-prestacoes', 'figure'),\n",
    "    [Input('ano-dropdown', 'value')]\n",
    ")\n",
    "\n",
    "#Função que fornece o gráfico com informações do ano\n",
    "def atualizar_grafico(ano_selecionado):\n",
    "    df_selecionado = df_qtd_prest[df_qtd_prest['ano'] == ano_selecionado]\n",
    "    fig = plx.bar(\n",
    "        df_selecionado, x='qtd_prestacoes', y='mes',\n",
    "        title=f'Quantidade de prestações realizadas por mês: Ano {ano_selecionado}',\n",
    "        labels={'qtd_prestacoes':'Quantidade', 'mes': 'Mês'},\n",
    "        orientation='h',\n",
    "        color='mes',\n",
    "        height=400,\n",
    "        hover_data={'qtd_prestacoes':':.2f'}\n",
    "    )\n",
    "    fig.update_layout(\n",
    "        margin=dict(l=1, t=50, b=0),\n",
    "        showlegend=False\n",
    "    )\n",
    "    return fig\n",
    "\n",
    "if __name__ == '__main__':\n",
    "    app.run_server(debug=True)"
   ]
  },
  {
   "cell_type": "code",
   "execution_count": 18,
   "id": "5c6b0b42",
   "metadata": {},
   "outputs": [
    {
     "data": {
      "text/html": [
       "\n",
       "        <iframe\n",
       "            width=\"100%\"\n",
       "            height=\"650\"\n",
       "            src=\"http://127.0.0.1:8050/\"\n",
       "            frameborder=\"0\"\n",
       "            allowfullscreen\n",
       "            \n",
       "        ></iframe>\n",
       "        "
      ],
      "text/plain": [
       "<IPython.lib.display.IFrame at 0x28ddcd7d850>"
      ]
     },
     "metadata": {},
     "output_type": "display_data"
    }
   ],
   "source": [
    "# GRÁFICO DE QUANTIDADE DE SERVIÇOS\n",
    "# Modelo: Gráfico de pizza\n",
    "\n",
    "#Inicialização da aplicação Dash\n",
    "app = dash.Dash(__name__)\n",
    "\n",
    "#Definição do layout\n",
    "app.layout = html.Div([\n",
    "    dcc.Graph(\n",
    "        id='grafico-qtd-servicos',\n",
    "        figure=plx.pie(\n",
    "            df_qtd_servicos,\n",
    "            values='qtd',\n",
    "            names='servico',\n",
    "            title='Quantidade de Serviços Realizados em Prestações'\n",
    "        )\n",
    "        \n",
    "    )\n",
    "])\n",
    "\n",
    "if __name__ == '__main__':\n",
    "    app.run_server(debug=True)"
   ]
  },
  {
   "cell_type": "code",
   "execution_count": null,
   "id": "1f797c03",
   "metadata": {},
   "outputs": [],
   "source": []
  }
 ],
 "metadata": {
  "kernelspec": {
   "display_name": "Python 3 (ipykernel)",
   "language": "python",
   "name": "python3"
  },
  "language_info": {
   "codemirror_mode": {
    "name": "ipython",
    "version": 3
   },
   "file_extension": ".py",
   "mimetype": "text/x-python",
   "name": "python",
   "nbconvert_exporter": "python",
   "pygments_lexer": "ipython3",
   "version": "3.11.5"
  }
 },
 "nbformat": 4,
 "nbformat_minor": 5
}
