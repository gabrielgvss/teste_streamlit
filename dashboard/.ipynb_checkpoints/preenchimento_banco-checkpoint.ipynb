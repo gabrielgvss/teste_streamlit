{
 "cells": [
  {
   "cell_type": "code",
   "execution_count": 1,
   "id": "38d998d1",
   "metadata": {},
   "outputs": [
    {
     "name": "stdout",
     "output_type": "stream",
     "text": [
      "Requirement already satisfied: mysql-connector-python in c:\\users\\dpf\\anaconda3\\lib\\site-packages (8.1.0)\n",
      "Requirement already satisfied: protobuf<=4.21.12,>=4.21.1 in c:\\users\\dpf\\anaconda3\\lib\\site-packages (from mysql-connector-python) (4.21.12)\n",
      "Note: you may need to restart the kernel to use updated packages.\n"
     ]
    }
   ],
   "source": [
    "pip install mysql-connector-python"
   ]
  },
  {
   "cell_type": "code",
   "execution_count": 2,
   "id": "32830fb4",
   "metadata": {},
   "outputs": [],
   "source": [
    "import mysql.connector\n",
    "from mysql.connector import Error"
   ]
  },
  {
   "cell_type": "code",
   "execution_count": 3,
   "id": "0ceaf47f",
   "metadata": {},
   "outputs": [],
   "source": [
    "def criar_conexao_servidor(usuario, senha, host, nome_bd):\n",
    "    conexao = None\n",
    "    try:\n",
    "        conexao = mysql.connector.connect(\n",
    "            host=host,\n",
    "            user=usuario,\n",
    "            passwd=senha,\n",
    "            database=nome_bd\n",
    "        )\n",
    "        print(\"MySQL DB conectado com sucesso\")\n",
    "    except Error as err:\n",
    "        print(f\"Erro: '{err}'\")\n",
    "    \n",
    "    return conexao"
   ]
  },
  {
   "cell_type": "code",
   "execution_count": 4,
   "id": "81e664b3",
   "metadata": {
    "scrolled": true
   },
   "outputs": [
    {
     "name": "stdout",
     "output_type": "stream",
     "text": [
      "MySQL DB conectado com sucesso\n"
     ]
    }
   ],
   "source": [
    "conexao = criar_conexao_servidor('root', '', 'localhost', 'apollo')"
   ]
  },
  {
   "cell_type": "code",
   "execution_count": 5,
   "id": "17055a64",
   "metadata": {},
   "outputs": [],
   "source": [
    "cursor = conexao.cursor()"
   ]
  },
  {
   "cell_type": "code",
   "execution_count": 17,
   "id": "765f139f",
   "metadata": {
    "collapsed": true
   },
   "outputs": [
    {
     "ename": "ProgrammingError",
     "evalue": "Not all parameters were used in the SQL statement",
     "output_type": "error",
     "traceback": [
      "\u001b[1;31m---------------------------------------------------------------------------\u001b[0m",
      "\u001b[1;31mProgrammingError\u001b[0m                          Traceback (most recent call last)",
      "Cell \u001b[1;32mIn[17], line 3\u001b[0m\n\u001b[0;32m      1\u001b[0m inserir_cliente \u001b[38;5;241m=\u001b[39m \u001b[38;5;124m\"\u001b[39m\u001b[38;5;124mINSERT INTO cliente(id, nome, numero, endereco) VALUES (\u001b[39m\u001b[38;5;132;01m%d\u001b[39;00m\u001b[38;5;124m, \u001b[39m\u001b[38;5;132;01m%s\u001b[39;00m\u001b[38;5;124m, \u001b[39m\u001b[38;5;132;01m%s\u001b[39;00m\u001b[38;5;124m, \u001b[39m\u001b[38;5;132;01m%s\u001b[39;00m\u001b[38;5;124m)\u001b[39m\u001b[38;5;124m\"\u001b[39m\n\u001b[0;32m      2\u001b[0m valores_cliente \u001b[38;5;241m=\u001b[39m (\u001b[38;5;241m21\u001b[39m, \u001b[38;5;124m\"\u001b[39m\u001b[38;5;124mJoao Mario\u001b[39m\u001b[38;5;124m\"\u001b[39m, \u001b[38;5;124m\"\u001b[39m\u001b[38;5;124m52345\u001b[39m\u001b[38;5;124m\"\u001b[39m, \u001b[38;5;124m\"\u001b[39m\u001b[38;5;124mCamboa\u001b[39m\u001b[38;5;124m\"\u001b[39m)\n\u001b[1;32m----> 3\u001b[0m cursor\u001b[38;5;241m.\u001b[39mexecute(inserir_cliente, valores_cliente)\n\u001b[0;32m      4\u001b[0m conexao\u001b[38;5;241m.\u001b[39mcommit()\n",
      "File \u001b[1;32m~\\anaconda3\\Lib\\site-packages\\mysql\\connector\\cursor_cext.py:325\u001b[0m, in \u001b[0;36mCMySQLCursor.execute\u001b[1;34m(self, operation, params, multi)\u001b[0m\n\u001b[0;32m    323\u001b[0m         stmt \u001b[38;5;241m=\u001b[39m RE_PY_PARAM\u001b[38;5;241m.\u001b[39msub(psub, stmt)  \u001b[38;5;66;03m# type: ignore[call-overload]\u001b[39;00m\n\u001b[0;32m    324\u001b[0m         \u001b[38;5;28;01mif\u001b[39;00m psub\u001b[38;5;241m.\u001b[39mremaining \u001b[38;5;241m!=\u001b[39m \u001b[38;5;241m0\u001b[39m:\n\u001b[1;32m--> 325\u001b[0m             \u001b[38;5;28;01mraise\u001b[39;00m ProgrammingError(\n\u001b[0;32m    326\u001b[0m                 \u001b[38;5;124m\"\u001b[39m\u001b[38;5;124mNot all parameters were used in the SQL statement\u001b[39m\u001b[38;5;124m\"\u001b[39m\n\u001b[0;32m    327\u001b[0m             )\n\u001b[0;32m    329\u001b[0m \u001b[38;5;28;01mtry\u001b[39;00m:\n\u001b[0;32m    330\u001b[0m     result \u001b[38;5;241m=\u001b[39m \u001b[38;5;28mself\u001b[39m\u001b[38;5;241m.\u001b[39m_cnx\u001b[38;5;241m.\u001b[39mcmd_query(\n\u001b[0;32m    331\u001b[0m         stmt,\n\u001b[0;32m    332\u001b[0m         raw\u001b[38;5;241m=\u001b[39m\u001b[38;5;28mself\u001b[39m\u001b[38;5;241m.\u001b[39m_raw,\n\u001b[0;32m    333\u001b[0m         buffered\u001b[38;5;241m=\u001b[39m\u001b[38;5;28mself\u001b[39m\u001b[38;5;241m.\u001b[39m_buffered,\n\u001b[0;32m    334\u001b[0m         raw_as_string\u001b[38;5;241m=\u001b[39m\u001b[38;5;28mself\u001b[39m\u001b[38;5;241m.\u001b[39m_raw_as_string,\n\u001b[0;32m    335\u001b[0m     )\n",
      "\u001b[1;31mProgrammingError\u001b[0m: Not all parameters were used in the SQL statement"
     ]
    }
   ],
   "source": [
    "#INSERÇÃO DE CLIENTES\n",
    "inserir_cliente = \"INSERT INTO cliente(id, nome, numero, endereco) VALUES (%s, %s, %s, %s)\"\n",
    "valores_cliente = (21, \"Joao Mario\", \"52345\", \"Camboa\")\n",
    "cursor.execute(inserir_cliente, valores_cliente)\n",
    "conexao.commit()"
   ]
  },
  {
   "cell_type": "code",
   "execution_count": 19,
   "id": "ec9473d3",
   "metadata": {},
   "outputs": [],
   "source": [
    "#INSERÇÃO DE FUNCIONÁRIOS\n",
    "inserir_funcionario = \"INSERT INTO FUNCIONARIO (id, nome, numero, endereco, diaria) VALUES (%s, %s, %s, %s, %s)\"\n",
    "valores_funcionario = (21, \"Jeferson\", \"98441\", \"Ivar Saldanha\", 80)\n",
    "cursor.execute(inserir_funcionario, valores_funcionario)\n",
    "conexao.commit()"
   ]
  },
  {
   "cell_type": "code",
   "execution_count": 9,
   "id": "364dbc73",
   "metadata": {},
   "outputs": [],
   "source": [
    "#INSERÇÃO DE SERVIÇOS\n",
    "inserir_servico = \"INSERT INTO SERVICO (id, nome, preco) VALUES (%s, %s, %s)\"\n",
    "valores_servico = (4,\"Desmontagem\", 140)\n",
    "cursor.execute(inserir_servico, valores_servico)\n",
    "conexao.commit()"
   ]
  },
  {
   "cell_type": "code",
   "execution_count": 40,
   "id": "7cf57288",
   "metadata": {},
   "outputs": [],
   "source": [
    "#INSERÇÃO DE CUSTOS\n",
    "inserir_custo = \"INSERT INTO CUSTO (IDCusto, DescCusto, ValorCusto) VALUES (%s, %s, %s)\"\n",
    "valores_custo = (1, \"Gasolina\", 150)\n",
    "cursor.execute(inserir_custo, valores_custo)\n",
    "conexao.commit()"
   ]
  },
  {
   "cell_type": "code",
   "execution_count": 14,
   "id": "065111f6",
   "metadata": {},
   "outputs": [],
   "source": [
    "#INSERÇÃO DE DATAS\n",
    "inserir_data = \"INSERT INTO DATA (IDData, DiaData) VALUES (%s, %s)\"\n",
    "valores_data = (5,\"2023-08-05\")\n",
    "cursor.execute(inserir_data, valores_data)\n",
    "conexao.commit()"
   ]
  },
  {
   "cell_type": "code",
   "execution_count": 20,
   "id": "57f94f44",
   "metadata": {},
   "outputs": [],
   "source": [
    "#INSERÇÃO DE PRESTAÇÕES\n",
    "inserir_prestacao = \"INSERT INTO PRESTACAO (IDPrestacao, Adicional, IDCliente) VALUES (%s, %s, %s)\"\n",
    "valores_prestacao = (5, 50, 6)\n",
    "cursor.execute(inserir_prestacao, valores_prestacao)\n",
    "conexao.commit()"
   ]
  },
  {
   "cell_type": "code",
   "execution_count": 62,
   "id": "47d00923",
   "metadata": {},
   "outputs": [],
   "source": [
    "#INSERCAO DE PRESTAÇÕES_CUSTO\n",
    "inserir_pc = \"INSERT INTO PRESTACAO_CUSTO (IDPrestacao, IDCusto) VALUES (%s, %s)\"\n",
    "valores_pc = (1,1)\n",
    "cursos.execute(inserir_pc, valores_pc)\n",
    "conexao.commit()"
   ]
  },
  {
   "cell_type": "code",
   "execution_count": 25,
   "id": "43cf5824",
   "metadata": {},
   "outputs": [],
   "source": [
    "#INSERÃP DE PRESTAÇÕES_DATA\n",
    "inserir_pd = \"INSERT INTO PRESTACAO_DATA (IDPrestacao, IDData) VALUES (%s, %s)\"\n",
    "valores_pd = (5,5)\n",
    "cursor.execute(inserir_pd, valores_pd)\n",
    "conexao.commit()"
   ]
  },
  {
   "cell_type": "code",
   "execution_count": 35,
   "id": "49138e88",
   "metadata": {},
   "outputs": [],
   "source": [
    "#INSERÇÃO DE PRESTACOES_FUNCIONARIOS\n",
    "inserir_pf = \"INSERT INTO PRESTACAO_FUNCIONARIO (IDFuncionario, IDPrestacao) VALUES (%s, %s)\"\n",
    "valores_pf = (10,3)\n",
    "cursor.execute(inserir_pf, valores_pf)\n",
    "conexao.commit()"
   ]
  },
  {
   "cell_type": "code",
   "execution_count": 42,
   "id": "12f03426",
   "metadata": {},
   "outputs": [],
   "source": [
    "#INSERÇÃO DE PRESTACOES_SERVICO\n",
    "inserir_ps = \"INSERT INTO PRESTACAO_SERVICO (IDPrestacao, IDServico) VALUES (%s, %s)\"\n",
    "valores_ps = (5,1)\n",
    "cursor.execute(inserir_ps, valores_ps)\n",
    "conexao.commit()"
   ]
  },
  {
   "cell_type": "code",
   "execution_count": null,
   "id": "850ec5f2",
   "metadata": {},
   "outputs": [],
   "source": []
  },
  {
   "cell_type": "code",
   "execution_count": null,
   "id": "98de4cda",
   "metadata": {},
   "outputs": [],
   "source": []
  }
 ],
 "metadata": {
  "kernelspec": {
   "display_name": "Python 3 (ipykernel)",
   "language": "python",
   "name": "python3"
  },
  "language_info": {
   "codemirror_mode": {
    "name": "ipython",
    "version": 3
   },
   "file_extension": ".py",
   "mimetype": "text/x-python",
   "name": "python",
   "nbconvert_exporter": "python",
   "pygments_lexer": "ipython3",
   "version": "3.11.5"
  }
 },
 "nbformat": 4,
 "nbformat_minor": 5
}
